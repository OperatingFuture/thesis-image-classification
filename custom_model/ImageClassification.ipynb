{
 "cells": [
  {
   "cell_type": "code",
   "execution_count": null,
   "metadata": {
    "id": "PUAYPfdR3nvE",
    "executionInfo": {
     "status": "ok",
     "timestamp": 1663184887767,
     "user_tz": -180,
     "elapsed": 3227,
     "user": {
      "displayName": "Konstantinos Brachos",
      "userId": "13281883485417919073"
     }
    }
   },
   "outputs": [],
   "source": [
    "import tensorflow as tf\n",
    "from keras.datasets import cifar10\n",
    "from sklearn.model_selection import train_test_split\n",
    "import matplotlib.pyplot as plt\n",
    "from tensorflow.keras.preprocessing.image import ImageDataGenerator\n",
    "from tensorflow.keras.models import Sequential\n",
    "from tensorflow.keras.layers import Dense, Dropout, Conv2D, MaxPooling2D, Flatten, BatchNormalization"
   ]
  },
  {
   "cell_type": "code",
   "execution_count": null,
   "metadata": {
    "colab": {
     "base_uri": "https://localhost:8080/"
    },
    "executionInfo": {
     "elapsed": 4290,
     "status": "ok",
     "timestamp": 1663184892049,
     "user": {
      "displayName": "Konstantinos Brachos",
      "userId": "13281883485417919073"
     },
     "user_tz": -180
    },
    "id": "KXZnCTYy3zqg",
    "outputId": "ad168429-2c10-4fa5-a7ad-047d297a0f14"
   },
   "outputs": [],
   "source": [
    "seed = 42\n",
    "weight_decay = 0.0001\n",
    "\n",
    "(x_train, y_train), (x_test, y_test) = cifar10.load_data()"
   ]
  },
  {
   "cell_type": "code",
   "execution_count": null,
   "metadata": {
    "id": "d6GjS3IQ4GaW",
    "executionInfo": {
     "status": "ok",
     "timestamp": 1663184892376,
     "user_tz": -180,
     "elapsed": 350,
     "user": {
      "displayName": "Konstantinos Brachos",
      "userId": "13281883485417919073"
     }
    }
   },
   "outputs": [],
   "source": [
    "def normalize(x):\n",
    "    x = x.astype('float32')\n",
    "    x = x / 255.0\n",
    "    return x\n",
    "\n",
    "\n",
    "datagen = ImageDataGenerator(\n",
    "    rotation_range=15,\n",
    "    width_shift_range=0.1,\n",
    "    height_shift_range=0.1,\n",
    "    horizontal_flip=True,\n",
    ")\n",
    "\n",
    "x_test, x_val, y_test, y_val = train_test_split(x_test, y_test, test_size=0.5, random_state=0)\n",
    "\n",
    "x_train = normalize(x_train)\n",
    "x_test = normalize(x_test)\n",
    "x_val = normalize(x_val)\n",
    "y_train = tf.keras.utils.to_categorical(y_train, 10)\n",
    "y_test = tf.keras.utils.to_categorical(y_test, 10)\n",
    "y_val = tf.keras.utils.to_categorical(y_val, 10)\n",
    "\n",
    "datagen.fit(x_train)"
   ]
  },
  {
   "cell_type": "code",
   "execution_count": null,
   "metadata": {
    "id": "U5aaz_eI4gyG",
    "executionInfo": {
     "status": "ok",
     "timestamp": 1663184896655,
     "user_tz": -180,
     "elapsed": 4281,
     "user": {
      "displayName": "Konstantinos Brachos",
      "userId": "13281883485417919073"
     }
    }
   },
   "outputs": [],
   "source": [
    "model = Sequential([\n",
    "    Conv2D(64, (3, 3), activation='relu', padding='same', kernel_regularizer=tf.keras.regularizers.l2(weight_decay),\n",
    "           input_shape=(32, 32, 3)),\n",
    "    BatchNormalization(),\n",
    "    Conv2D(64, (3, 3), activation='relu', kernel_regularizer=tf.keras.regularizers.l2(weight_decay), padding='same'),\n",
    "    BatchNormalization(),\n",
    "    MaxPooling2D((2, 2)),\n",
    "    Dropout(0.2),\n",
    "    Conv2D(128, (3, 3), activation='relu', kernel_regularizer=tf.keras.regularizers.l2(weight_decay), padding='same'),\n",
    "    BatchNormalization(),\n",
    "    Conv2D(128, (3, 3), activation='relu', kernel_regularizer=tf.keras.regularizers.l2(weight_decay), padding='same'),\n",
    "    BatchNormalization(),\n",
    "    MaxPooling2D((2, 2)),\n",
    "    Dropout(0.3),\n",
    "    Conv2D(256, (3, 3), activation='relu', kernel_regularizer=tf.keras.regularizers.l2(weight_decay), padding='same'),\n",
    "    BatchNormalization(),\n",
    "    Conv2D(256, (3, 3), activation='relu', kernel_regularizer=tf.keras.regularizers.l2(weight_decay), padding='same'),\n",
    "    BatchNormalization(),\n",
    "    MaxPooling2D((2, 2)),\n",
    "    Dropout(0.3),\n",
    "    Flatten(),\n",
    "    Dense(256, activation='relu'),\n",
    "    Dense(10, activation='softmax')\n",
    "])"
   ]
  },
  {
   "cell_type": "code",
   "execution_count": null,
   "metadata": {
    "id": "AbPP1Do44g4n",
    "executionInfo": {
     "status": "ok",
     "timestamp": 1663184896656,
     "user_tz": -180,
     "elapsed": 30,
     "user": {
      "displayName": "Konstantinos Brachos",
      "userId": "13281883485417919073"
     }
    }
   },
   "outputs": [],
   "source": [
    "def results(model):\n",
    "    epoch = 100\n",
    "    r = model.fit(datagen.flow(x_train, y_train, batch_size=32), epochs=epoch, steps_per_epoch=len(x_train) // 32,\n",
    "                  validation_data=(x_val, y_val), verbose=1)\n",
    "    acc = model.evaluate(x_test, y_test)\n",
    "    print(\"test set loss : \", acc[0])\n",
    "    print(\"test set accuracy :\", acc[1] * 100)\n",
    "    epoch_range = range(1, epoch + 1)\n",
    "    plt.plot(epoch_range, r.history['accuracy'])\n",
    "    plt.plot(epoch_range, r.history['val_accuracy'])\n",
    "    plt.title('Classification Accuracy')\n",
    "    plt.ylabel('Accuracy')\n",
    "    plt.xlabel('Epoch')\n",
    "    plt.legend(['Train', 'Val'], loc='lower right')\n",
    "    plt.show()\n",
    "    # Plot training & validation loss values\n",
    "    plt.plot(epoch_range, r.history['loss'])\n",
    "    plt.plot(epoch_range, r.history['val_loss'])\n",
    "    plt.title('Model loss')\n",
    "    plt.ylabel('Loss')\n",
    "    plt.xlabel('Epoch')\n",
    "    plt.legend(['Train', 'Val'], loc='lower right')\n",
    "    plt.show()"
   ]
  },
  {
   "cell_type": "code",
   "execution_count": null,
   "metadata": {
    "colab": {
     "base_uri": "https://localhost:8080/",
     "height": 1000
    },
    "id": "mLe8Q3fO4zkP",
    "outputId": "dd511287-b889-437a-82e7-3084522dc1ba",
    "executionInfo": {
     "status": "ok",
     "timestamp": 1663188747304,
     "user_tz": -180,
     "elapsed": 3850677,
     "user": {
      "displayName": "Konstantinos Brachos",
      "userId": "13281883485417919073"
     }
    }
   },
   "outputs": [],
   "source": [
    "opt = tf.keras.optimizers.SGD(lr=0.001, momentum=0.9)\n",
    "model.compile(optimizer=opt, loss='categorical_crossentropy', metrics=['accuracy'])\n",
    "results(model)"
   ]
  },
  {
   "cell_type": "code",
   "execution_count": null,
   "metadata": {
    "id": "4kbxsCDS4zmv",
    "colab": {
     "base_uri": "https://localhost:8080/"
    },
    "executionInfo": {
     "status": "ok",
     "timestamp": 1663188883305,
     "user_tz": -180,
     "elapsed": 136010,
     "user": {
      "displayName": "Konstantinos Brachos",
      "userId": "13281883485417919073"
     }
    },
    "outputId": "da3bcdf6-02ec-4f22-95f0-adc35ba2a748"
   },
   "outputs": [],
   "source": [
    "from google.colab import drive \n",
    "drive.mount('/content/gdrive')"
   ]
  },
  {
   "cell_type": "code",
   "source": [
    "!mkdir /content/gdrive/My\\ Drive/Colab_Models"
   ],
   "metadata": {
    "id": "DtHjaYY2HOxq",
    "executionInfo": {
     "status": "ok",
     "timestamp": 1663188883306,
     "user_tz": -180,
     "elapsed": 19,
     "user": {
      "displayName": "Konstantinos Brachos",
      "userId": "13281883485417919073"
     }
    },
    "colab": {
     "base_uri": "https://localhost:8080/"
    },
    "outputId": "c486cf23-a750-45a1-8c78-0f4a6fef8c8e"
   },
   "execution_count": null,
   "outputs": []
  },
  {
   "cell_type": "code",
   "source": [
    "model.save('/content/gdrive/My Drive/Colab_Models/model1')"
   ],
   "metadata": {
    "id": "xPzCjsODHhOc",
    "executionInfo": {
     "status": "ok",
     "timestamp": 1663188887200,
     "user_tz": -180,
     "elapsed": 3904,
     "user": {
      "displayName": "Konstantinos Brachos",
      "userId": "13281883485417919073"
     }
    }
   },
   "execution_count": null,
   "outputs": []
  }
 ],
 "metadata": {
  "accelerator": "GPU",
  "colab": {
   "provenance": []
  },
  "gpuClass": "standard",
  "kernelspec": {
   "display_name": "Python 3",
   "name": "python3"
  },
  "language_info": {
   "name": "python"
  }
 },
 "nbformat": 4,
 "nbformat_minor": 0
}
